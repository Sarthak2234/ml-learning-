{
 "cells": [
  {
   "cell_type": "code",
   "execution_count": null,
   "id": "f16c194f",
   "metadata": {},
   "outputs": [
    {
     "name": "stdout",
     "output_type": "stream",
     "text": [
      "2.3\n"
     ]
    }
   ],
   "source": [
    "#here i took three inputs and three weights corresponding to those inputs and a bias term and found out the output of the neuron\n",
    "#three inputs and one neuron\n",
    "inputs = [1,2,3] # list \n",
    "weights = [0.2,0.8,-0.5] # list \n",
    "bias = 2 \n",
    "#multiplied elements of the list \n",
    "out = (inputs[0] * weights[0] + inputs[1] * weights[1] + inputs[2]* weights[2] + bias)\n",
    "print(out)"
   ]
  },
  {
   "cell_type": "code",
   "execution_count": 2,
   "id": "d915f3ec",
   "metadata": {},
   "outputs": [
    {
     "name": "stdout",
     "output_type": "stream",
     "text": [
      "[4.8, 1.21, 2.385]\n"
     ]
    }
   ],
   "source": [
    "inputs = [1,2,3,2.5]\n",
    "#here we have 4 inputs and we are training 3 neurons wir\n",
    "weights = [[0.2, 0.8, -0.5, 1],\n",
    " [0.5, -0.91, 0.26, -0.5],\n",
    " [-0.26, -0.27, 0.17, 0.87]]\n",
    "\n",
    "weights1 = weights[0]\n",
    "weights2 = weights[1]\n",
    "weights3 = weights[2]\n",
    "bias1 = 2 \n",
    "bias2 = 3 \n",
    "bias3 = 0.5\n",
    "outputs = [\n",
    "    #neuron1 \n",
    "inputs[0]*weights1[0] +\n",
    "inputs[1]*weights1[1] +\n",
    "inputs[2]*weights1[2] +\n",
    "inputs[3]*weights1[3] + bias1,\n",
    "\n",
    "inputs[0]*weights2[0] +\n",
    "inputs[1]*weights2[1] +\n",
    "inputs[2]*weights2[2] +\n",
    "inputs[3]*weights2[3] + bias2,\n",
    "\n",
    "inputs[0]*weights3[0] +\n",
    "inputs[1]*weights3[1] +\n",
    "inputs[2]*weights3[2] +\n",
    "inputs[3]*weights3[3] + bias3,\n",
    "]\n",
    "print(outputs)"
   ]
  },
  {
   "cell_type": "code",
   "execution_count": 4,
   "id": "60268d32",
   "metadata": {},
   "outputs": [
    {
     "name": "stdout",
     "output_type": "stream",
     "text": [
      "[4.8, 1.21, 2.385]\n"
     ]
    }
   ],
   "source": [
    "inputs = [1,2,3,2.5]\n",
    "\n",
    "#list of weights \n",
    "weights = [[0.2, 0.8, -0.5, 1],\n",
    " [0.5, -0.91, 0.26, -0.5],\n",
    " [-0.26, -0.27, 0.17, 0.87]]\n",
    "\n",
    "#list of biasis \n",
    "biases = [2,3,0.5]\n",
    "\n",
    "layer_output = []\n",
    "\n",
    "#for each neuron \n",
    "for neuron_weights , neuron_bias in zip(weights,biases):\n",
    "    neuron_output = 0\n",
    "    for n_input , weight in zip(inputs , neuron_weights):\n",
    "        neuron_output += n_input*weight\n",
    "    neuron_output += neuron_bias\n",
    "    layer_output.append(neuron_output)\n",
    "print(layer_output)\n"
   ]
  },
  {
   "cell_type": "markdown",
   "id": "05543275",
   "metadata": {},
   "source": [
    "now we will see how numpy is useful in matrix and vector multiplication in case of a neuron training "
   ]
  },
  {
   "cell_type": "code",
   "execution_count": null,
   "id": "4a14ac9c",
   "metadata": {},
   "outputs": [
    {
     "name": "stdout",
     "output_type": "stream",
     "text": [
      "4.8\n"
     ]
    }
   ],
   "source": [
    "import numpy as np \n",
    "inputs = [1.0,2.0,3.0,2.5]\n",
    "weights = [0.2,0.8,-0.5,1.0]\n",
    "bias = 2.0\n",
    "#we can write either the dot product of vectors because the dot products answer remains the same in case of vectors\n",
    "outputs = np.dot(weights,inputs) + bias \n",
    "outputs = np.dot(inputs,weights) + bias \n",
    "print(outputs)"
   ]
  },
  {
   "cell_type": "markdown",
   "id": "b5674699",
   "metadata": {},
   "source": [
    "so here we have one vector that is inputs and other matrix that  is weights and we are doing vector matrix multiplication here so that the output we get is in the correct sequence of matrix "
   ]
  },
  {
   "cell_type": "code",
   "execution_count": 1,
   "id": "459fe13a",
   "metadata": {},
   "outputs": [
    {
     "name": "stdout",
     "output_type": "stream",
     "text": [
      "[4.8   1.21  2.385]\n"
     ]
    }
   ],
   "source": [
    "import numpy as np \n",
    "inputs = [1.0,2.0,3.0,2.5]\n",
    "weights = [[0.2, 0.8, -0.5, 1],\n",
    "           [0.5, -0.91, 0.26, -0.5],\n",
    "           [-0.26, -0.27, 0.17, 0.87]]\n",
    "biases = [2.0,3.0,0.5]\n",
    "\n",
    "#convert list into numpy array \n",
    "input_array = np.array(inputs)\n",
    "weights_array = np.array(weights)\n",
    "biases_array = np.array(biases)\n",
    "\n",
    "layer_output = np.dot(weights_array,input_array) + biases_array\n",
    "print(layer_output)"
   ]
  },
  {
   "cell_type": "markdown",
   "id": "48ca6a29",
   "metadata": {},
   "source": [
    "#here now we are going to multiply two mtrices together and we have to check for the dimension of both matrices so that we can multiply them if that is not happening them we have to take transose of one matrix so that it can be multiplied with other matrix or we have to apply similar operations to them so to make matrix multiplication reasonable"
   ]
  },
  {
   "cell_type": "code",
   "execution_count": 7,
   "id": "06ddb307",
   "metadata": {},
   "outputs": [
    {
     "name": "stdout",
     "output_type": "stream",
     "text": [
      "[[ 4.8    1.21   2.385]\n",
      " [ 8.9   -1.81   0.2  ]\n",
      " [ 1.41   1.051  0.026]]\n"
     ]
    }
   ],
   "source": [
    "import numpy as np \n",
    "inputs = [[1.0, 2.0, 3.0, 2.5], [2.0, 5.0, -1.0, 2.0], [-1.5, 2.7, 3.3, -0.8]]\n",
    "weights = [[0.2, 0.8, -0.5, 1],[0.5, -0.91, 0.26, -0.5],[-0.26, -0.27, 0.17, 0.87]]\n",
    "biases = [2.0,3.0,0.5]\n",
    "#convert list to array as with array only we can use transpose \n",
    "inputs_array = np.array(inputs)\n",
    "weights_array = np.array(weights)\n",
    "biases_array = np.array(biases)\n",
    "outputs = np.dot(inputs_array , weights_array.T) + biases_array\n",
    "print(outputs)"
   ]
  },
  {
   "cell_type": "markdown",
   "id": "f4c75bd7",
   "metadata": {},
   "source": [
    "now we are going for multiple layers in a neural network in which we are given the inputs to a neuron and subsiquent weight corresponding to the weight matrix "
   ]
  },
  {
   "cell_type": "code",
   "execution_count": null,
   "id": "cfac470c",
   "metadata": {},
   "outputs": [
    {
     "name": "stdout",
     "output_type": "stream",
     "text": [
      "[[ 0.5031  -1.04185 -2.03875]\n",
      " [ 0.2434  -2.7332  -5.7633 ]\n",
      " [-0.99314  1.41254 -0.35655]]\n"
     ]
    }
   ],
   "source": [
    "import numpy as np \n",
    "inputs = [[1, 2, 3, 2.5],\n",
    "          [2., 5., -1., 2],\n",
    "          [-1.5, 2.7, 3.3, -0.8]]\n",
    "\n",
    "weights = [[0.2, 0.8, -0.5, 1],\n",
    "           [0.5, -0.91, 0.26, -0.5],\n",
    "           [-0.26, -0.27, 0.17, 0.87]]\n",
    "           \n",
    "biases = [2, 3, 0.5]\n",
    "\n",
    "weights2 = [[0.1, -0.14, 0.5],\n",
    "            [-0.5, 0.12, -0.33],\n",
    "            [-0.44, 0.73, -0.13]]\n",
    "\n",
    "biases2 = [-1, 2, -0.5]\n",
    "#convert lists to numpy \n",
    "inputs_array = np.array(inputs)\n",
    "weights_array = np.array(weights)\n",
    "biases_array = np.array(biases)\n",
    "weights2_array = np.array(weights2)\n",
    "biases2_array = np.array(biases2)\n",
    "\n",
    "#calculate the output to the first layer \n",
    "layer1_outputs = np.dot(inputs_array,weights_array.T)+biases_array\n",
    "#calculate the output of the second layer \n",
    "layer2_outputs = np.dot(layer1_outputs,weights2_array.T)+biases2_array\n",
    "print(layer2_outputs)"
   ]
  },
  {
   "cell_type": "markdown",
   "id": "11ef903c",
   "metadata": {},
   "source": []
  },
  {
   "cell_type": "code",
   "execution_count": null,
   "id": "8b84d2b6",
   "metadata": {},
   "outputs": [],
   "source": []
  }
 ],
 "metadata": {
  "kernelspec": {
   "display_name": "mlenv2",
   "language": "python",
   "name": "python3"
  },
  "language_info": {
   "codemirror_mode": {
    "name": "ipython",
    "version": 3
   },
   "file_extension": ".py",
   "mimetype": "text/x-python",
   "name": "python",
   "nbconvert_exporter": "python",
   "pygments_lexer": "ipython3",
   "version": "3.12.10"
  }
 },
 "nbformat": 4,
 "nbformat_minor": 5
}
