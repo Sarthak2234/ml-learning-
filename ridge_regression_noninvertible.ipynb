{
 "cells": [
  {
   "cell_type": "code",
   "execution_count": 28,
   "id": "2e399992",
   "metadata": {},
   "outputs": [
    {
     "data": {
      "text/plain": [
       "True"
      ]
     },
     "execution_count": 28,
     "metadata": {},
     "output_type": "execute_result"
    }
   ],
   "source": [
    "import numpy as np \n",
    "import plotly.graph_objects as go \n",
    "import webbrowser\n",
    "import os\n",
    "\n",
    "# Data\n",
    "X = np.array([[1, 2], [2, 4], [3, 6], [4, 8]])\n",
    "y = np.array([5, 9, 13, 17])\n",
    "\n",
    "# Ridge Regression\n",
    "X_with_intercept = np.hstack([np.ones((X.shape[0], 1)), X])\n",
    "lambda_ridge = 0.1 \n",
    "I = np.eye(X_with_intercept.shape[1])\n",
    "beta_ridge = np.linalg.inv(X_with_intercept.T @ X_with_intercept + lambda_ridge * I) @ X_with_intercept.T @ y \n",
    "\n",
    "# Create meshgrid for plane\n",
    "x1_range = np.linspace(0, 5, 20)\n",
    "x2_range = np.linspace(0, 10, 20)  # x2 = 2*x1\n",
    "x1_mesh, x2_mesh = np.meshgrid(x1_range, x2_range)\n",
    "y_mesh = beta_ridge[0] + beta_ridge[1] * x1_mesh + beta_ridge[2] * x2_mesh\n",
    "\n",
    "# Plot\n",
    "fig = go.Figure(data=[\n",
    "    go.Scatter3d(\n",
    "        x=X[:, 0], y=X[:, 1], z=y,\n",
    "        mode='markers',\n",
    "        marker=dict(size=10, color='red'),\n",
    "        name='Data Points'\n",
    "    ),\n",
    "    go.Surface(\n",
    "        x=x1_mesh, y=x2_mesh, z=y_mesh,\n",
    "        opacity=0.7,\n",
    "        colorscale='Blues',\n",
    "        showscale=False,\n",
    "        name='Ridge Plane'\n",
    "    )\n",
    "])\n",
    "\n",
    "fig.update_layout(\n",
    "    scene=dict(\n",
    "        xaxis_title='X1',\n",
    "        yaxis_title='X2', \n",
    "        zaxis_title='Y',\n",
    "        camera=dict(eye=dict(x=1.5, y=1.5, z=0.8))  # Better view\n",
    "    ),\n",
    "    title='Ridge Regression 3D Hyperplane'\n",
    ")\n",
    "\n",
    "# Save and force-open in browser\n",
    "output_file = \"ridge_plot_auto.html\"\n",
    "fig.write_html(output_file)\n",
    "\n",
    "# Get absolute path and open\n",
    "abs_path = os.path.abspath(output_file)\n",
    "webbrowser.open('file://' + abs_path, new=2)  # new=2 opens in a new tab"
   ]
  },
  {
   "cell_type": "code",
   "execution_count": 29,
   "id": "1bd191f6",
   "metadata": {},
   "outputs": [
    {
     "data": {
      "text/plain": [
       "array([0.90460099, 0.80582272, 1.61164544])"
      ]
     },
     "execution_count": 29,
     "metadata": {},
     "output_type": "execute_result"
    }
   ],
   "source": [
    "beta_ridge\n"
   ]
  }
 ],
 "metadata": {
  "kernelspec": {
   "display_name": "mlenv2",
   "language": "python",
   "name": "python3"
  },
  "language_info": {
   "codemirror_mode": {
    "name": "ipython",
    "version": 3
   },
   "file_extension": ".py",
   "mimetype": "text/x-python",
   "name": "python",
   "nbconvert_exporter": "python",
   "pygments_lexer": "ipython3",
   "version": "3.12.8"
  }
 },
 "nbformat": 4,
 "nbformat_minor": 5
}
