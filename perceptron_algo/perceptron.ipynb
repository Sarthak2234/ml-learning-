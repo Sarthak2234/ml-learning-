{
 "cells": [
  {
   "cell_type": "code",
   "execution_count": 1,
   "metadata": {},
   "outputs": [],
   "source": [
    "import numpy as np \n",
    "import matplotlib.pyplot as plt \n"
   ]
  },
  {
   "cell_type": "code",
   "execution_count": 2,
   "metadata": {},
   "outputs": [],
   "source": [
    "#define positive and negative classes]\n",
    "#positive points true value is +1 and -1 for negative\n",
    "positive_points = np.array([(-2,3),(0,1),(2,-1)])\n",
    "negative_points = np.array([(-2,1),(0,-1),(2,-3)])\n"
   ]
  },
  {
   "cell_type": "code",
   "execution_count": 3,
   "metadata": {},
   "outputs": [
    {
     "data": {
      "image/png": "[encoded data removed]",
      "text/plain": [
       "<Figure size 800x600 with 1 Axes>"
      ]
     },
     "metadata": {},
     "output_type": "display_data"
    }
   ],
   "source": [
    "#plot initial points \n",
    "plt.figure(figsize=(8,6))\n",
    "plt.scatter(positive_points[:,0],positive_points[:,1],color = 'red',marker ='o',label = 'positive_points')\n",
    "plt.scatter(negative_points[:,0],negative_points[:,1],color = 'blue',marker ='x',label = 'negative_points')\n",
    "plt.legend(loc='best')\n",
    "plt.xlabel('x1')\n",
    "plt.ylabel('y1')\n",
    "plt.title('initial_data_points')\n",
    "plt.grid(True)\n",
    "plt.show()"
   ]
  },
  {
   "cell_type": "code",
   "execution_count": 4,
   "metadata": {},
   "outputs": [],
   "source": [
    "#combining all points and labels \n",
    "#vstack is used to stacking the two points of the arrray one upon the other \n",
    "X=np.vstack((positive_points,negative_points))\n",
    "y=np.array([1]*len(positive_points) + [-1]*len(negative_points))"
   ]
  },
  {
   "cell_type": "code",
   "execution_count": 5,
   "metadata": {},
   "outputs": [
    {
     "data": {
      "text/plain": [
       "array([[-2,  3],\n",
       "       [ 0,  1],\n",
       "       [ 2, -1],\n",
       "       [-2,  1],\n",
       "       [ 0, -1],\n",
       "       [ 2, -3]])"
      ]
     },
     "execution_count": 5,
     "metadata": {},
     "output_type": "execute_result"
    }
   ],
   "source": [
    "X"
   ]
  },
  {
   "cell_type": "code",
   "execution_count": 6,
   "metadata": {},
   "outputs": [
    {
     "data": {
      "text/plain": [
       "array([ 1,  1,  1, -1, -1, -1])"
      ]
     },
     "execution_count": 6,
     "metadata": {},
     "output_type": "execute_result"
    }
   ],
   "source": [
    "y"
   ]
  },
  {
   "cell_type": "code",
   "execution_count": null,
   "metadata": {},
   "outputs": [],
   "source": [
    "def perceptron( X,y,steps=10):\n",
    "    theta = np.zeros(X.shape[1])\n",
    "    theta0 = 0\n",
    "    for t in range(steps):\n",
    "        for i , xi in enumerate(X):\n",
    "            if y[i] * (np.dot(xi,theta)+theta0)<=0:\n",
    "                theta += y[i] * xi\n",
    "                theta0 += y[i]\n",
    "                break \n",
    "            #plot after each iteration \n",
    "            plot_decision_boundary(theta,theta0,t+1)\n",
    "            return theta,theta0\n",
    "        "
   ]
  },
  {
   "cell_type": "code",
   "execution_count": 9,
   "metadata": {},
   "outputs": [],
   "source": [
    "def plot_decision_boundary(theta , theta0 , iteration):\n",
    "    plt.figure(figsize = (8,6))\n",
    "    plt.scatter(positive_points[:,0],positive_points[:,1],color='blue',marker = 'o',label = 'positive class')\n",
    "    plt.scatter(negative_points[:,0],negative_points[:,1],color='red',marker = 'x',label = 'negative class')\n",
    "\n",
    "    #ploting decision boundary \n",
    "    x_values = np.linspace(-3,3,2)\n",
    "    #check for theta[1] to avoid division by zero in case of vertical lines \n",
    "    if theta[1] != 0:\n",
    "        y_values = -(theta[0] * x_values + theta0) / theta[1]\n",
    "        plt.plot(x_values , y_values , label = f'iteration {iteration}')\n",
    "\n",
    "    plt.xlim(-3,3)\n",
    "    plt.ylim(-4,4)\n",
    "    plt.xlabel('x1')\n",
    "    plt.ylabel('x2')\n",
    "    plt.title('decision boundary for the iteration {iteration}')\n",
    "    plt.legend()\n",
    "    plt.show()"
   ]
  }
 ],
 "metadata": {
  "kernelspec": {
   "display_name": "mlenv2",
   "language": "python",
   "name": "python3"
  },
  "language_info": {
   "codemirror_mode": {
    "name": "ipython",
    "version": 3
   },
   "file_extension": ".py",
   "mimetype": "text/x-python",
   "name": "python",
   "nbconvert_exporter": "python",
   "pygments_lexer": "ipython3",
   "version": "3.12.8"
  }
 },
 "nbformat": 4,
 "nbformat_minor": 2
}
